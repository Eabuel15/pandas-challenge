{
 "cells": [
  {
   "cell_type": "markdown",
   "metadata": {},
   "source": [
    "### Note\n",
    "* Instructions have been included for each segment. You do not have to follow them exactly, but they are included to help you think through the steps."
   ]
  },
  {
   "cell_type": "code",
   "execution_count": 182,
   "metadata": {},
   "outputs": [
    {
     "data": {
      "text/html": [
       "<div>\n",
       "<style scoped>\n",
       "    .dataframe tbody tr th:only-of-type {\n",
       "        vertical-align: middle;\n",
       "    }\n",
       "\n",
       "    .dataframe tbody tr th {\n",
       "        vertical-align: top;\n",
       "    }\n",
       "\n",
       "    .dataframe thead th {\n",
       "        text-align: right;\n",
       "    }\n",
       "</style>\n",
       "<table border=\"1\" class=\"dataframe\">\n",
       "  <thead>\n",
       "    <tr style=\"text-align: right;\">\n",
       "      <th></th>\n",
       "      <th>Purchase ID</th>\n",
       "      <th>SN</th>\n",
       "      <th>Age</th>\n",
       "      <th>Gender</th>\n",
       "      <th>Item ID</th>\n",
       "      <th>Item Name</th>\n",
       "      <th>Price</th>\n",
       "    </tr>\n",
       "  </thead>\n",
       "  <tbody>\n",
       "    <tr>\n",
       "      <th>0</th>\n",
       "      <td>0</td>\n",
       "      <td>Lisim78</td>\n",
       "      <td>20</td>\n",
       "      <td>Male</td>\n",
       "      <td>108</td>\n",
       "      <td>Extraction, Quickblade Of Trembling Hands</td>\n",
       "      <td>3.53</td>\n",
       "    </tr>\n",
       "    <tr>\n",
       "      <th>1</th>\n",
       "      <td>1</td>\n",
       "      <td>Lisovynya38</td>\n",
       "      <td>40</td>\n",
       "      <td>Male</td>\n",
       "      <td>143</td>\n",
       "      <td>Frenzied Scimitar</td>\n",
       "      <td>1.56</td>\n",
       "    </tr>\n",
       "    <tr>\n",
       "      <th>2</th>\n",
       "      <td>2</td>\n",
       "      <td>Ithergue48</td>\n",
       "      <td>24</td>\n",
       "      <td>Male</td>\n",
       "      <td>92</td>\n",
       "      <td>Final Critic</td>\n",
       "      <td>4.88</td>\n",
       "    </tr>\n",
       "    <tr>\n",
       "      <th>3</th>\n",
       "      <td>3</td>\n",
       "      <td>Chamassasya86</td>\n",
       "      <td>24</td>\n",
       "      <td>Male</td>\n",
       "      <td>100</td>\n",
       "      <td>Blindscythe</td>\n",
       "      <td>3.27</td>\n",
       "    </tr>\n",
       "    <tr>\n",
       "      <th>4</th>\n",
       "      <td>4</td>\n",
       "      <td>Iskosia90</td>\n",
       "      <td>23</td>\n",
       "      <td>Male</td>\n",
       "      <td>131</td>\n",
       "      <td>Fury</td>\n",
       "      <td>1.44</td>\n",
       "    </tr>\n",
       "  </tbody>\n",
       "</table>\n",
       "</div>"
      ],
      "text/plain": [
       "   Purchase ID             SN  Age Gender  Item ID  \\\n",
       "0            0        Lisim78   20   Male      108   \n",
       "1            1    Lisovynya38   40   Male      143   \n",
       "2            2     Ithergue48   24   Male       92   \n",
       "3            3  Chamassasya86   24   Male      100   \n",
       "4            4      Iskosia90   23   Male      131   \n",
       "\n",
       "                                   Item Name  Price  \n",
       "0  Extraction, Quickblade Of Trembling Hands   3.53  \n",
       "1                          Frenzied Scimitar   1.56  \n",
       "2                               Final Critic   4.88  \n",
       "3                                Blindscythe   3.27  \n",
       "4                                       Fury   1.44  "
      ]
     },
     "execution_count": 182,
     "metadata": {},
     "output_type": "execute_result"
    }
   ],
   "source": [
    "# Dependencies and Setup\n",
    "import pandas as pd\n",
    "\n",
    "# File to Load (Remember to Change These)\n",
    "file_to_load = \"Resources/purchase_data.csv\"\n",
    "\n",
    "# Read Purchasing File and store into Pandas data frame\n",
    "purchase_data = pd.read_csv(file_to_load)\n",
    "purchase_data.head()"
   ]
  },
  {
   "cell_type": "markdown",
   "metadata": {},
   "source": [
    "## Player Count"
   ]
  },
  {
   "cell_type": "markdown",
   "metadata": {},
   "source": [
    "* Display the total number of players\n"
   ]
  },
  {
   "cell_type": "code",
   "execution_count": 183,
   "metadata": {},
   "outputs": [
    {
     "data": {
      "text/html": [
       "<div>\n",
       "<style scoped>\n",
       "    .dataframe tbody tr th:only-of-type {\n",
       "        vertical-align: middle;\n",
       "    }\n",
       "\n",
       "    .dataframe tbody tr th {\n",
       "        vertical-align: top;\n",
       "    }\n",
       "\n",
       "    .dataframe thead th {\n",
       "        text-align: right;\n",
       "    }\n",
       "</style>\n",
       "<table border=\"1\" class=\"dataframe\">\n",
       "  <thead>\n",
       "    <tr style=\"text-align: right;\">\n",
       "      <th></th>\n",
       "      <th>Total Players</th>\n",
       "    </tr>\n",
       "  </thead>\n",
       "  <tbody>\n",
       "    <tr>\n",
       "      <th>0</th>\n",
       "      <td>576</td>\n",
       "    </tr>\n",
       "  </tbody>\n",
       "</table>\n",
       "</div>"
      ],
      "text/plain": [
       "   Total Players\n",
       "0            576"
      ]
     },
     "execution_count": 183,
     "metadata": {},
     "output_type": "execute_result"
    }
   ],
   "source": [
    "total_player_count = len(purchase_data[\"SN\"].value_counts())\n",
    "player_count_df = pd.DataFrame({\"Total Players\" : [total_player_count]})\n",
    "player_count_df"
   ]
  },
  {
   "cell_type": "markdown",
   "metadata": {},
   "source": [
    "## Purchasing Analysis (Total)"
   ]
  },
  {
   "cell_type": "markdown",
   "metadata": {},
   "source": [
    "* Run basic calculations to obtain number of unique items, average price, etc.\n",
    "\n",
    "\n",
    "* Create a summary data frame to hold the results\n",
    "\n",
    "\n",
    "* Optional: give the displayed data cleaner formatting\n",
    "\n",
    "\n",
    "* Display the summary data frame\n"
   ]
  },
  {
   "cell_type": "code",
   "execution_count": 184,
   "metadata": {
    "scrolled": true
   },
   "outputs": [
    {
     "data": {
      "text/html": [
       "<style  type=\"text/css\" >\n",
       "</style><table id=\"T_136da4d5_b5e8_11eb_a12e_d0577b86a497\" ><thead>    <tr>        <th class=\"blank level0\" ></th>        <th class=\"col_heading level0 col0\" >Number of Unique Items</th>        <th class=\"col_heading level0 col1\" >Average Price</th>        <th class=\"col_heading level0 col2\" >Number of Purchases</th>        <th class=\"col_heading level0 col3\" >Total Revenue</th>    </tr></thead><tbody>\n",
       "                <tr>\n",
       "                        <th id=\"T_136da4d5_b5e8_11eb_a12e_d0577b86a497level0_row0\" class=\"row_heading level0 row0\" >0</th>\n",
       "                        <td id=\"T_136da4d5_b5e8_11eb_a12e_d0577b86a497row0_col0\" class=\"data row0 col0\" >179</td>\n",
       "                        <td id=\"T_136da4d5_b5e8_11eb_a12e_d0577b86a497row0_col1\" class=\"data row0 col1\" >$3.05</td>\n",
       "                        <td id=\"T_136da4d5_b5e8_11eb_a12e_d0577b86a497row0_col2\" class=\"data row0 col2\" >780</td>\n",
       "                        <td id=\"T_136da4d5_b5e8_11eb_a12e_d0577b86a497row0_col3\" class=\"data row0 col3\" >$2,379.77</td>\n",
       "            </tr>\n",
       "    </tbody></table>"
      ],
      "text/plain": [
       "<pandas.io.formats.style.Styler at 0x22da89cbdf0>"
      ]
     },
     "execution_count": 184,
     "metadata": {},
     "output_type": "execute_result"
    }
   ],
   "source": [
    "unique_items_count = len(purchase_data[\"Item Name\"].value_counts())\n",
    "avg_price = purchase_data[\"Price\"].mean()\n",
    "purchases_amt = purchase_data[\"Purchase ID\"].count()\n",
    "total_revenue = sum(purchase_data[\"Price\"])\n",
    "purchasing_analysis_df = pd.DataFrame({\"Number of Unique Items\" : [unique_items_count], \"Average Price\" : [avg_price], \n",
    "                                       \"Number of Purchases\" : [purchases_amt],\"Total Revenue\":[total_revenue]})\n",
    "purchasing_analysis_df.style.format({'Average Price': '${:,.2f}','Total Revenue': '${:,.2f}'})"
   ]
  },
  {
   "cell_type": "markdown",
   "metadata": {},
   "source": [
    "## Gender Demographics"
   ]
  },
  {
   "cell_type": "markdown",
   "metadata": {},
   "source": [
    "* Percentage and Count of Male Players\n",
    "\n",
    "\n",
    "* Percentage and Count of Female Players\n",
    "\n",
    "\n",
    "* Percentage and Count of Other / Non-Disclosed\n",
    "\n",
    "\n"
   ]
  },
  {
   "cell_type": "code",
   "execution_count": 185,
   "metadata": {},
   "outputs": [
    {
     "data": {
      "text/html": [
       "<style  type=\"text/css\" >\n",
       "</style><table id=\"T_137b7e15_b5e8_11eb_bff0_d0577b86a497\" ><thead>    <tr>        <th class=\"blank level0\" ></th>        <th class=\"col_heading level0 col0\" >Total Count</th>        <th class=\"col_heading level0 col1\" >Percentage Of Players</th>    </tr></thead><tbody>\n",
       "                <tr>\n",
       "                        <th id=\"T_137b7e15_b5e8_11eb_bff0_d0577b86a497level0_row0\" class=\"row_heading level0 row0\" >Male</th>\n",
       "                        <td id=\"T_137b7e15_b5e8_11eb_bff0_d0577b86a497row0_col0\" class=\"data row0 col0\" >484</td>\n",
       "                        <td id=\"T_137b7e15_b5e8_11eb_bff0_d0577b86a497row0_col1\" class=\"data row0 col1\" >84.03%</td>\n",
       "            </tr>\n",
       "            <tr>\n",
       "                        <th id=\"T_137b7e15_b5e8_11eb_bff0_d0577b86a497level0_row1\" class=\"row_heading level0 row1\" >Female</th>\n",
       "                        <td id=\"T_137b7e15_b5e8_11eb_bff0_d0577b86a497row1_col0\" class=\"data row1 col0\" >81</td>\n",
       "                        <td id=\"T_137b7e15_b5e8_11eb_bff0_d0577b86a497row1_col1\" class=\"data row1 col1\" >14.06%</td>\n",
       "            </tr>\n",
       "            <tr>\n",
       "                        <th id=\"T_137b7e15_b5e8_11eb_bff0_d0577b86a497level0_row2\" class=\"row_heading level0 row2\" >Other / Non-Disclosed</th>\n",
       "                        <td id=\"T_137b7e15_b5e8_11eb_bff0_d0577b86a497row2_col0\" class=\"data row2 col0\" >11</td>\n",
       "                        <td id=\"T_137b7e15_b5e8_11eb_bff0_d0577b86a497row2_col1\" class=\"data row2 col1\" >1.91%</td>\n",
       "            </tr>\n",
       "    </tbody></table>"
      ],
      "text/plain": [
       "<pandas.io.formats.style.Styler at 0x22da8b369a0>"
      ]
     },
     "execution_count": 185,
     "metadata": {},
     "output_type": "execute_result"
    }
   ],
   "source": [
    "# Group purchase_data by Gender\n",
    "gender = purchase_data.groupby('Gender')\n",
    "\n",
    "# Count the total of screen names \"SN\" by gender\n",
    "total_gender_count = gender.nunique()['SN']\n",
    "\n",
    "# Total count by gender and divivde by total players \n",
    "percentage_of_players = total_gender_count / total_player_count * 100\n",
    "\n",
    "# Create data frame with obtained values\n",
    "demographics_df = pd.DataFrame({'Total Count': total_count_gender,'Percentage Of Players': percentage_of_players})\n",
    "\n",
    "# Format the data frame with no index name in the corner\n",
    "demographics_df.index.name = None\n",
    "\n",
    "# Format the values sorted by total count in descending order, and two decimal places for the percentage\n",
    "demographics_df.sort_values(['Total Count'], ascending = False).style.format({'Percentage Of Players':'{:.2f}%'})"
   ]
  },
  {
   "cell_type": "markdown",
   "metadata": {},
   "source": [
    "\n",
    "## Purchasing Analysis (Gender)"
   ]
  },
  {
   "cell_type": "markdown",
   "metadata": {},
   "source": [
    "* Run basic calculations to obtain purchase count, avg. purchase price, avg. purchase total per person etc. by gender\n",
    "\n",
    "\n",
    "\n",
    "\n",
    "* Create a summary data frame to hold the results\n",
    "\n",
    "\n",
    "* Optional: give the displayed data cleaner formatting\n",
    "\n",
    "\n",
    "* Display the summary data frame"
   ]
  },
  {
   "cell_type": "code",
   "execution_count": 186,
   "metadata": {},
   "outputs": [
    {
     "data": {
      "text/html": [
       "<style  type=\"text/css\" >\n",
       "</style><table id=\"T_13869a13_b5e8_11eb_8445_d0577b86a497\" ><thead>    <tr>        <th class=\"blank level0\" ></th>        <th class=\"col_heading level0 col0\" >Purchase Count</th>        <th class=\"col_heading level0 col1\" >Average Purchase Price</th>        <th class=\"col_heading level0 col2\" >Average Purchase Total</th>        <th class=\"col_heading level0 col3\" >Average Purchase Total Per Person</th>    </tr>    <tr>        <th class=\"index_name level0\" >Gender</th>        <th class=\"blank\" ></th>        <th class=\"blank\" ></th>        <th class=\"blank\" ></th>        <th class=\"blank\" ></th>    </tr></thead><tbody>\n",
       "                <tr>\n",
       "                        <th id=\"T_13869a13_b5e8_11eb_8445_d0577b86a497level0_row0\" class=\"row_heading level0 row0\" >Male</th>\n",
       "                        <td id=\"T_13869a13_b5e8_11eb_8445_d0577b86a497row0_col0\" class=\"data row0 col0\" >652</td>\n",
       "                        <td id=\"T_13869a13_b5e8_11eb_8445_d0577b86a497row0_col1\" class=\"data row0 col1\" >$3.02</td>\n",
       "                        <td id=\"T_13869a13_b5e8_11eb_8445_d0577b86a497row0_col2\" class=\"data row0 col2\" >$1,967.64</td>\n",
       "                        <td id=\"T_13869a13_b5e8_11eb_8445_d0577b86a497row0_col3\" class=\"data row0 col3\" >$4.07</td>\n",
       "            </tr>\n",
       "            <tr>\n",
       "                        <th id=\"T_13869a13_b5e8_11eb_8445_d0577b86a497level0_row1\" class=\"row_heading level0 row1\" >Female</th>\n",
       "                        <td id=\"T_13869a13_b5e8_11eb_8445_d0577b86a497row1_col0\" class=\"data row1 col0\" >113</td>\n",
       "                        <td id=\"T_13869a13_b5e8_11eb_8445_d0577b86a497row1_col1\" class=\"data row1 col1\" >$3.20</td>\n",
       "                        <td id=\"T_13869a13_b5e8_11eb_8445_d0577b86a497row1_col2\" class=\"data row1 col2\" >$361.94</td>\n",
       "                        <td id=\"T_13869a13_b5e8_11eb_8445_d0577b86a497row1_col3\" class=\"data row1 col3\" >$4.47</td>\n",
       "            </tr>\n",
       "            <tr>\n",
       "                        <th id=\"T_13869a13_b5e8_11eb_8445_d0577b86a497level0_row2\" class=\"row_heading level0 row2\" >Other / Non-Disclosed</th>\n",
       "                        <td id=\"T_13869a13_b5e8_11eb_8445_d0577b86a497row2_col0\" class=\"data row2 col0\" >15</td>\n",
       "                        <td id=\"T_13869a13_b5e8_11eb_8445_d0577b86a497row2_col1\" class=\"data row2 col1\" >$3.35</td>\n",
       "                        <td id=\"T_13869a13_b5e8_11eb_8445_d0577b86a497row2_col2\" class=\"data row2 col2\" >$50.19</td>\n",
       "                        <td id=\"T_13869a13_b5e8_11eb_8445_d0577b86a497row2_col3\" class=\"data row2 col3\" >$4.56</td>\n",
       "            </tr>\n",
       "    </tbody></table>"
      ],
      "text/plain": [
       "<pandas.io.formats.style.Styler at 0x22da8b3d0a0>"
      ]
     },
     "execution_count": 186,
     "metadata": {},
     "output_type": "execute_result"
    }
   ],
   "source": [
    "purchase_count = gender['Purchase ID'].count()\n",
    "avg_purchase_price = gender['Price'].mean()\n",
    "avg_purchase_total = gender['Price'].sum()\n",
    "avg_purchase_total_per_person = avg_purchase_total/total_gender_count\n",
    "gender_demographics_df = pd.DataFrame({'Purchase Count': purchase_count, \n",
    "                                       'Average Purchase Price': avg_purchase_price, \n",
    "                                       'Average Purchase Total': avg_purchase_total,\n",
    "                                    'Average Purchase Total Per Person': avg_purchase_total_per_person})\n",
    "gender_demographics_df.sort_values(['Purchase Count'], ascending = False).style.format({\"Average Purchase Total\":\"${:,.2f}\",\n",
    "                                                                                        \"Average Purchase Price\":\"${:,.2f}\",\n",
    "                                                                                        \"Average Purchase Total Per Person\":\"${:,.2f}\"})"
   ]
  },
  {
   "cell_type": "markdown",
   "metadata": {},
   "source": [
    "Age Demographics"
   ]
  },
  {
   "cell_type": "markdown",
   "metadata": {},
   "source": [
    "* Establish bins for ages\n",
    "\n",
    "\n",
    "* Categorize the existing players using the age bins. Hint: use pd.cut()\n",
    "\n",
    "\n",
    "* Calculate the numbers and percentages by age group\n",
    "\n",
    "\n",
    "* Create a summary data frame to hold the results\n",
    "\n",
    "\n",
    "* Optional: round the percentage column to two decimal points\n",
    "\n",
    "\n",
    "* Display Age Demographics Table\n"
   ]
  },
  {
   "cell_type": "code",
   "execution_count": 187,
   "metadata": {},
   "outputs": [
    {
     "data": {
      "text/html": [
       "<style  type=\"text/css\" >\n",
       "</style><table id=\"T_13936283_b5e8_11eb_9615_d0577b86a497\" ><thead>    <tr>        <th class=\"blank level0\" ></th>        <th class=\"col_heading level0 col0\" >Percentage of Players</th>        <th class=\"col_heading level0 col1\" >Total Count</th>    </tr></thead><tbody>\n",
       "                <tr>\n",
       "                        <th id=\"T_13936283_b5e8_11eb_9615_d0577b86a497level0_row0\" class=\"row_heading level0 row0\" ><10</th>\n",
       "                        <td id=\"T_13936283_b5e8_11eb_9615_d0577b86a497row0_col0\" class=\"data row0 col0\" >2.95</td>\n",
       "                        <td id=\"T_13936283_b5e8_11eb_9615_d0577b86a497row0_col1\" class=\"data row0 col1\" >17</td>\n",
       "            </tr>\n",
       "            <tr>\n",
       "                        <th id=\"T_13936283_b5e8_11eb_9615_d0577b86a497level0_row1\" class=\"row_heading level0 row1\" >10-14</th>\n",
       "                        <td id=\"T_13936283_b5e8_11eb_9615_d0577b86a497row1_col0\" class=\"data row1 col0\" >3.82</td>\n",
       "                        <td id=\"T_13936283_b5e8_11eb_9615_d0577b86a497row1_col1\" class=\"data row1 col1\" >22</td>\n",
       "            </tr>\n",
       "            <tr>\n",
       "                        <th id=\"T_13936283_b5e8_11eb_9615_d0577b86a497level0_row2\" class=\"row_heading level0 row2\" >15-19</th>\n",
       "                        <td id=\"T_13936283_b5e8_11eb_9615_d0577b86a497row2_col0\" class=\"data row2 col0\" >18.58</td>\n",
       "                        <td id=\"T_13936283_b5e8_11eb_9615_d0577b86a497row2_col1\" class=\"data row2 col1\" >107</td>\n",
       "            </tr>\n",
       "            <tr>\n",
       "                        <th id=\"T_13936283_b5e8_11eb_9615_d0577b86a497level0_row3\" class=\"row_heading level0 row3\" >20-24</th>\n",
       "                        <td id=\"T_13936283_b5e8_11eb_9615_d0577b86a497row3_col0\" class=\"data row3 col0\" >44.79</td>\n",
       "                        <td id=\"T_13936283_b5e8_11eb_9615_d0577b86a497row3_col1\" class=\"data row3 col1\" >258</td>\n",
       "            </tr>\n",
       "            <tr>\n",
       "                        <th id=\"T_13936283_b5e8_11eb_9615_d0577b86a497level0_row4\" class=\"row_heading level0 row4\" >25-29</th>\n",
       "                        <td id=\"T_13936283_b5e8_11eb_9615_d0577b86a497row4_col0\" class=\"data row4 col0\" >13.37</td>\n",
       "                        <td id=\"T_13936283_b5e8_11eb_9615_d0577b86a497row4_col1\" class=\"data row4 col1\" >77</td>\n",
       "            </tr>\n",
       "            <tr>\n",
       "                        <th id=\"T_13936283_b5e8_11eb_9615_d0577b86a497level0_row5\" class=\"row_heading level0 row5\" >30-34</th>\n",
       "                        <td id=\"T_13936283_b5e8_11eb_9615_d0577b86a497row5_col0\" class=\"data row5 col0\" >9.03</td>\n",
       "                        <td id=\"T_13936283_b5e8_11eb_9615_d0577b86a497row5_col1\" class=\"data row5 col1\" >52</td>\n",
       "            </tr>\n",
       "            <tr>\n",
       "                        <th id=\"T_13936283_b5e8_11eb_9615_d0577b86a497level0_row6\" class=\"row_heading level0 row6\" >35-39</th>\n",
       "                        <td id=\"T_13936283_b5e8_11eb_9615_d0577b86a497row6_col0\" class=\"data row6 col0\" >5.38</td>\n",
       "                        <td id=\"T_13936283_b5e8_11eb_9615_d0577b86a497row6_col1\" class=\"data row6 col1\" >31</td>\n",
       "            </tr>\n",
       "            <tr>\n",
       "                        <th id=\"T_13936283_b5e8_11eb_9615_d0577b86a497level0_row7\" class=\"row_heading level0 row7\" >40+</th>\n",
       "                        <td id=\"T_13936283_b5e8_11eb_9615_d0577b86a497row7_col0\" class=\"data row7 col0\" >2.08</td>\n",
       "                        <td id=\"T_13936283_b5e8_11eb_9615_d0577b86a497row7_col1\" class=\"data row7 col1\" >12</td>\n",
       "            </tr>\n",
       "    </tbody></table>"
      ],
      "text/plain": [
       "<pandas.io.formats.style.Styler at 0x22da89c5820>"
      ]
     },
     "execution_count": 187,
     "metadata": {},
     "output_type": "execute_result"
    }
   ],
   "source": [
    "age_bins = [0, 9.90, 14.90, 19.90, 24.90, 29.90, 34.90, 39.90, 99999]\n",
    "group_names = [\"<10\", \"10-14\", \"15-19\", \"20-24\", \"25-29\", \"30-34\", \"35-39\", \"40+\"]\n",
    "\n",
    "purchase_data[\"Age Group\"] = pd.cut(purchase_data[\"Age\"],age_bins, labels=group_names)\n",
    "purchase_data\n",
    "\n",
    "age_grouped = purchase_data.groupby(\"Age Group\")\n",
    "\n",
    "total_count_age = age_grouped[\"SN\"].nunique()\n",
    "\n",
    "percentage_by_age = (total_count_age/total_player_count) * 100\n",
    "\n",
    "age_demographics = pd.DataFrame({\"Percentage of Players\": percentage_by_age, \"Total Count\": total_count_age})\n",
    "\n",
    "age_demographics.index.name = None\n",
    "\n",
    "age_demographics.style.format({\"Percentage of Players\":\"{:,.2f}\"})"
   ]
  },
  {
   "cell_type": "markdown",
   "metadata": {},
   "source": [
    "## Purchasing Analysis (Age)"
   ]
  },
  {
   "cell_type": "markdown",
   "metadata": {},
   "source": [
    "* Bin the purchase_data data frame by age\n",
    "\n",
    "\n",
    "* Run basic calculations to obtain purchase count, avg. purchase price, avg. purchase total per person etc. in the table below\n",
    "\n",
    "\n",
    "* Create a summary data frame to hold the results\n",
    "\n",
    "\n",
    "* Optional: give the displayed data cleaner formatting\n",
    "\n",
    "\n",
    "* Display the summary data frame"
   ]
  },
  {
   "cell_type": "code",
   "execution_count": 188,
   "metadata": {},
   "outputs": [
    {
     "data": {
      "text/html": [
       "<style  type=\"text/css\" >\n",
       "</style><table id=\"T_139e0996_b5e8_11eb_899d_d0577b86a497\" ><thead>    <tr>        <th class=\"blank level0\" ></th>        <th class=\"col_heading level0 col0\" >Purchase Count</th>        <th class=\"col_heading level0 col1\" >Average Purchase Price</th>        <th class=\"col_heading level0 col2\" >Total Purchase Value</th>        <th class=\"col_heading level0 col3\" >Average Purchase Total per Person</th>    </tr></thead><tbody>\n",
       "                <tr>\n",
       "                        <th id=\"T_139e0996_b5e8_11eb_899d_d0577b86a497level0_row0\" class=\"row_heading level0 row0\" ><10</th>\n",
       "                        <td id=\"T_139e0996_b5e8_11eb_899d_d0577b86a497row0_col0\" class=\"data row0 col0\" >23</td>\n",
       "                        <td id=\"T_139e0996_b5e8_11eb_899d_d0577b86a497row0_col1\" class=\"data row0 col1\" >$3.35</td>\n",
       "                        <td id=\"T_139e0996_b5e8_11eb_899d_d0577b86a497row0_col2\" class=\"data row0 col2\" >$77.13</td>\n",
       "                        <td id=\"T_139e0996_b5e8_11eb_899d_d0577b86a497row0_col3\" class=\"data row0 col3\" >$4.54</td>\n",
       "            </tr>\n",
       "            <tr>\n",
       "                        <th id=\"T_139e0996_b5e8_11eb_899d_d0577b86a497level0_row1\" class=\"row_heading level0 row1\" >10-14</th>\n",
       "                        <td id=\"T_139e0996_b5e8_11eb_899d_d0577b86a497row1_col0\" class=\"data row1 col0\" >28</td>\n",
       "                        <td id=\"T_139e0996_b5e8_11eb_899d_d0577b86a497row1_col1\" class=\"data row1 col1\" >$2.96</td>\n",
       "                        <td id=\"T_139e0996_b5e8_11eb_899d_d0577b86a497row1_col2\" class=\"data row1 col2\" >$82.78</td>\n",
       "                        <td id=\"T_139e0996_b5e8_11eb_899d_d0577b86a497row1_col3\" class=\"data row1 col3\" >$3.76</td>\n",
       "            </tr>\n",
       "            <tr>\n",
       "                        <th id=\"T_139e0996_b5e8_11eb_899d_d0577b86a497level0_row2\" class=\"row_heading level0 row2\" >15-19</th>\n",
       "                        <td id=\"T_139e0996_b5e8_11eb_899d_d0577b86a497row2_col0\" class=\"data row2 col0\" >136</td>\n",
       "                        <td id=\"T_139e0996_b5e8_11eb_899d_d0577b86a497row2_col1\" class=\"data row2 col1\" >$3.04</td>\n",
       "                        <td id=\"T_139e0996_b5e8_11eb_899d_d0577b86a497row2_col2\" class=\"data row2 col2\" >$412.89</td>\n",
       "                        <td id=\"T_139e0996_b5e8_11eb_899d_d0577b86a497row2_col3\" class=\"data row2 col3\" >$3.86</td>\n",
       "            </tr>\n",
       "            <tr>\n",
       "                        <th id=\"T_139e0996_b5e8_11eb_899d_d0577b86a497level0_row3\" class=\"row_heading level0 row3\" >20-24</th>\n",
       "                        <td id=\"T_139e0996_b5e8_11eb_899d_d0577b86a497row3_col0\" class=\"data row3 col0\" >365</td>\n",
       "                        <td id=\"T_139e0996_b5e8_11eb_899d_d0577b86a497row3_col1\" class=\"data row3 col1\" >$3.05</td>\n",
       "                        <td id=\"T_139e0996_b5e8_11eb_899d_d0577b86a497row3_col2\" class=\"data row3 col2\" >$1,114.06</td>\n",
       "                        <td id=\"T_139e0996_b5e8_11eb_899d_d0577b86a497row3_col3\" class=\"data row3 col3\" >$4.32</td>\n",
       "            </tr>\n",
       "            <tr>\n",
       "                        <th id=\"T_139e0996_b5e8_11eb_899d_d0577b86a497level0_row4\" class=\"row_heading level0 row4\" >25-29</th>\n",
       "                        <td id=\"T_139e0996_b5e8_11eb_899d_d0577b86a497row4_col0\" class=\"data row4 col0\" >101</td>\n",
       "                        <td id=\"T_139e0996_b5e8_11eb_899d_d0577b86a497row4_col1\" class=\"data row4 col1\" >$2.90</td>\n",
       "                        <td id=\"T_139e0996_b5e8_11eb_899d_d0577b86a497row4_col2\" class=\"data row4 col2\" >$293.00</td>\n",
       "                        <td id=\"T_139e0996_b5e8_11eb_899d_d0577b86a497row4_col3\" class=\"data row4 col3\" >$3.81</td>\n",
       "            </tr>\n",
       "            <tr>\n",
       "                        <th id=\"T_139e0996_b5e8_11eb_899d_d0577b86a497level0_row5\" class=\"row_heading level0 row5\" >30-34</th>\n",
       "                        <td id=\"T_139e0996_b5e8_11eb_899d_d0577b86a497row5_col0\" class=\"data row5 col0\" >73</td>\n",
       "                        <td id=\"T_139e0996_b5e8_11eb_899d_d0577b86a497row5_col1\" class=\"data row5 col1\" >$2.93</td>\n",
       "                        <td id=\"T_139e0996_b5e8_11eb_899d_d0577b86a497row5_col2\" class=\"data row5 col2\" >$214.00</td>\n",
       "                        <td id=\"T_139e0996_b5e8_11eb_899d_d0577b86a497row5_col3\" class=\"data row5 col3\" >$4.12</td>\n",
       "            </tr>\n",
       "            <tr>\n",
       "                        <th id=\"T_139e0996_b5e8_11eb_899d_d0577b86a497level0_row6\" class=\"row_heading level0 row6\" >35-39</th>\n",
       "                        <td id=\"T_139e0996_b5e8_11eb_899d_d0577b86a497row6_col0\" class=\"data row6 col0\" >41</td>\n",
       "                        <td id=\"T_139e0996_b5e8_11eb_899d_d0577b86a497row6_col1\" class=\"data row6 col1\" >$3.60</td>\n",
       "                        <td id=\"T_139e0996_b5e8_11eb_899d_d0577b86a497row6_col2\" class=\"data row6 col2\" >$147.67</td>\n",
       "                        <td id=\"T_139e0996_b5e8_11eb_899d_d0577b86a497row6_col3\" class=\"data row6 col3\" >$4.76</td>\n",
       "            </tr>\n",
       "            <tr>\n",
       "                        <th id=\"T_139e0996_b5e8_11eb_899d_d0577b86a497level0_row7\" class=\"row_heading level0 row7\" >40+</th>\n",
       "                        <td id=\"T_139e0996_b5e8_11eb_899d_d0577b86a497row7_col0\" class=\"data row7 col0\" >13</td>\n",
       "                        <td id=\"T_139e0996_b5e8_11eb_899d_d0577b86a497row7_col1\" class=\"data row7 col1\" >$2.94</td>\n",
       "                        <td id=\"T_139e0996_b5e8_11eb_899d_d0577b86a497row7_col2\" class=\"data row7 col2\" >$38.24</td>\n",
       "                        <td id=\"T_139e0996_b5e8_11eb_899d_d0577b86a497row7_col3\" class=\"data row7 col3\" >$3.19</td>\n",
       "            </tr>\n",
       "    </tbody></table>"
      ],
      "text/plain": [
       "<pandas.io.formats.style.Styler at 0x22da8a49b80>"
      ]
     },
     "execution_count": 188,
     "metadata": {},
     "output_type": "execute_result"
    }
   ],
   "source": [
    "purchase_count_age = age_grouped[\"Purchase ID\"].count()\n",
    "\n",
    "avg_purchase_price_age = age_grouped[\"Price\"].mean()\n",
    " \n",
    "total_purchase_value = age_grouped[\"Price\"].sum()\n",
    "\n",
    "avg_purchase_per_person_age = total_purchase_value/total_count_age\n",
    "\n",
    "age_demographics = pd.DataFrame({\"Purchase Count\": purchase_count_age,\n",
    "                                 \"Average Purchase Price\": avg_purchase_price_age,\n",
    "                                 \"Total Purchase Value\":total_purchase_value,\n",
    "                                 \"Average Purchase Total per Person\": avg_purchase_per_person_age})\n",
    "\n",
    "age_demographics.index.name = None\n",
    "\n",
    "age_demographics.style.format({\"Average Purchase Price\":\"${:,.2f}\",\n",
    "                               \"Total Purchase Value\":\"${:,.2f}\",\n",
    "                               \"Average Purchase Total per Person\":\"${:,.2f}\"})"
   ]
  },
  {
   "cell_type": "markdown",
   "metadata": {},
   "source": [
    "## Top Spenders"
   ]
  },
  {
   "cell_type": "markdown",
   "metadata": {},
   "source": [
    "* Run basic calculations to obtain the results in the table below\n",
    "\n",
    "\n",
    "* Create a summary data frame to hold the results\n",
    "\n",
    "\n",
    "* Sort the total purchase value column in descending order\n",
    "\n",
    "\n",
    "* Optional: give the displayed data cleaner formatting\n",
    "\n",
    "\n",
    "* Display a preview of the summary data frame\n",
    "\n"
   ]
  },
  {
   "cell_type": "code",
   "execution_count": 189,
   "metadata": {},
   "outputs": [
    {
     "data": {
      "text/html": [
       "<style  type=\"text/css\" >\n",
       "</style><table id=\"T_13aa8438_b5e8_11eb_8b1d_d0577b86a497\" ><thead>    <tr>        <th class=\"blank level0\" ></th>        <th class=\"col_heading level0 col0\" >Purchase Count</th>        <th class=\"col_heading level0 col1\" >Average Purchase Price</th>        <th class=\"col_heading level0 col2\" >Total Purchase Value</th>    </tr>    <tr>        <th class=\"index_name level0\" >SN</th>        <th class=\"blank\" ></th>        <th class=\"blank\" ></th>        <th class=\"blank\" ></th>    </tr></thead><tbody>\n",
       "                <tr>\n",
       "                        <th id=\"T_13aa8438_b5e8_11eb_8b1d_d0577b86a497level0_row0\" class=\"row_heading level0 row0\" >Lisosia93</th>\n",
       "                        <td id=\"T_13aa8438_b5e8_11eb_8b1d_d0577b86a497row0_col0\" class=\"data row0 col0\" >5</td>\n",
       "                        <td id=\"T_13aa8438_b5e8_11eb_8b1d_d0577b86a497row0_col1\" class=\"data row0 col1\" >$3.79</td>\n",
       "                        <td id=\"T_13aa8438_b5e8_11eb_8b1d_d0577b86a497row0_col2\" class=\"data row0 col2\" >$18.96</td>\n",
       "            </tr>\n",
       "            <tr>\n",
       "                        <th id=\"T_13aa8438_b5e8_11eb_8b1d_d0577b86a497level0_row1\" class=\"row_heading level0 row1\" >Idastidru52</th>\n",
       "                        <td id=\"T_13aa8438_b5e8_11eb_8b1d_d0577b86a497row1_col0\" class=\"data row1 col0\" >4</td>\n",
       "                        <td id=\"T_13aa8438_b5e8_11eb_8b1d_d0577b86a497row1_col1\" class=\"data row1 col1\" >$3.86</td>\n",
       "                        <td id=\"T_13aa8438_b5e8_11eb_8b1d_d0577b86a497row1_col2\" class=\"data row1 col2\" >$15.45</td>\n",
       "            </tr>\n",
       "            <tr>\n",
       "                        <th id=\"T_13aa8438_b5e8_11eb_8b1d_d0577b86a497level0_row2\" class=\"row_heading level0 row2\" >Chamjask73</th>\n",
       "                        <td id=\"T_13aa8438_b5e8_11eb_8b1d_d0577b86a497row2_col0\" class=\"data row2 col0\" >3</td>\n",
       "                        <td id=\"T_13aa8438_b5e8_11eb_8b1d_d0577b86a497row2_col1\" class=\"data row2 col1\" >$4.61</td>\n",
       "                        <td id=\"T_13aa8438_b5e8_11eb_8b1d_d0577b86a497row2_col2\" class=\"data row2 col2\" >$13.83</td>\n",
       "            </tr>\n",
       "            <tr>\n",
       "                        <th id=\"T_13aa8438_b5e8_11eb_8b1d_d0577b86a497level0_row3\" class=\"row_heading level0 row3\" >Iral74</th>\n",
       "                        <td id=\"T_13aa8438_b5e8_11eb_8b1d_d0577b86a497row3_col0\" class=\"data row3 col0\" >4</td>\n",
       "                        <td id=\"T_13aa8438_b5e8_11eb_8b1d_d0577b86a497row3_col1\" class=\"data row3 col1\" >$3.40</td>\n",
       "                        <td id=\"T_13aa8438_b5e8_11eb_8b1d_d0577b86a497row3_col2\" class=\"data row3 col2\" >$13.62</td>\n",
       "            </tr>\n",
       "            <tr>\n",
       "                        <th id=\"T_13aa8438_b5e8_11eb_8b1d_d0577b86a497level0_row4\" class=\"row_heading level0 row4\" >Iskadarya95</th>\n",
       "                        <td id=\"T_13aa8438_b5e8_11eb_8b1d_d0577b86a497row4_col0\" class=\"data row4 col0\" >3</td>\n",
       "                        <td id=\"T_13aa8438_b5e8_11eb_8b1d_d0577b86a497row4_col1\" class=\"data row4 col1\" >$4.37</td>\n",
       "                        <td id=\"T_13aa8438_b5e8_11eb_8b1d_d0577b86a497row4_col2\" class=\"data row4 col2\" >$13.10</td>\n",
       "            </tr>\n",
       "    </tbody></table>"
      ],
      "text/plain": [
       "<pandas.io.formats.style.Styler at 0x22da89e7f70>"
      ]
     },
     "execution_count": 189,
     "metadata": {},
     "output_type": "execute_result"
    }
   ],
   "source": [
    "spender_info = purchase_data.groupby('SN')\n",
    "spender_purchase_count = spender_info['Purchase ID'].count()\n",
    "avg_spender_purchase_price = spender_info['Price'].mean()\n",
    "total_purchase_value = spender_info['Price'].sum()\n",
    "\n",
    "top_spenders_df = pd.DataFrame({'Purchase Count': spender_purchase_count, 'Average Purchase Price': avg_spender_purchase_price, \n",
    "                             'Total Purchase Value': total_purchase_value})\n",
    "spenders_formatted = top_spenders_df.sort_values(['Total Purchase Value'], ascending = False).head()\n",
    "\n",
    "spenders_formatted.style.format({'Average Purchase Price': '${:,.2f}', 'Total Purchase Value': '${:,.2f}'})"
   ]
  },
  {
   "cell_type": "markdown",
   "metadata": {},
   "source": [
    "## Most Popular Items"
   ]
  },
  {
   "cell_type": "markdown",
   "metadata": {},
   "source": [
    "* Retrieve the Item ID, Item Name, and Item Price columns\n",
    "\n",
    "\n",
    "* Group by Item ID and Item Name. Perform calculations to obtain purchase count, average item price, and total purchase value\n",
    "\n",
    "\n",
    "* Create a summary data frame to hold the results\n",
    "\n",
    "\n",
    "* Sort the purchase count column in descending order\n",
    "\n",
    "\n",
    "* Optional: give the displayed data cleaner formatting\n",
    "\n",
    "\n",
    "* Display a preview of the summary data frame\n",
    "\n"
   ]
  },
  {
   "cell_type": "code",
   "execution_count": 193,
   "metadata": {},
   "outputs": [
    {
     "data": {
      "text/html": [
       "<style  type=\"text/css\" >\n",
       "</style><table id=\"T_47a45503_b5e8_11eb_9ecb_d0577b86a497\" ><thead>    <tr>        <th class=\"blank\" ></th>        <th class=\"blank level0\" ></th>        <th class=\"col_heading level0 col0\" >Purchase Count</th>        <th class=\"col_heading level0 col1\" >Item Price</th>        <th class=\"col_heading level0 col2\" >Total Purchase Value</th>    </tr>    <tr>        <th class=\"index_name level0\" >Item ID</th>        <th class=\"index_name level1\" >Item Name</th>        <th class=\"blank\" ></th>        <th class=\"blank\" ></th>        <th class=\"blank\" ></th>    </tr></thead><tbody>\n",
       "                <tr>\n",
       "                        <th id=\"T_47a45503_b5e8_11eb_9ecb_d0577b86a497level0_row0\" class=\"row_heading level0 row0\" >92</th>\n",
       "                        <th id=\"T_47a45503_b5e8_11eb_9ecb_d0577b86a497level1_row0\" class=\"row_heading level1 row0\" >Final Critic</th>\n",
       "                        <td id=\"T_47a45503_b5e8_11eb_9ecb_d0577b86a497row0_col0\" class=\"data row0 col0\" >13</td>\n",
       "                        <td id=\"T_47a45503_b5e8_11eb_9ecb_d0577b86a497row0_col1\" class=\"data row0 col1\" >$4.61</td>\n",
       "                        <td id=\"T_47a45503_b5e8_11eb_9ecb_d0577b86a497row0_col2\" class=\"data row0 col2\" >$59.99</td>\n",
       "            </tr>\n",
       "            <tr>\n",
       "                        <th id=\"T_47a45503_b5e8_11eb_9ecb_d0577b86a497level0_row1\" class=\"row_heading level0 row1\" >178</th>\n",
       "                        <th id=\"T_47a45503_b5e8_11eb_9ecb_d0577b86a497level1_row1\" class=\"row_heading level1 row1\" >Oathbreaker, Last Hope of the Breaking Storm</th>\n",
       "                        <td id=\"T_47a45503_b5e8_11eb_9ecb_d0577b86a497row1_col0\" class=\"data row1 col0\" >12</td>\n",
       "                        <td id=\"T_47a45503_b5e8_11eb_9ecb_d0577b86a497row1_col1\" class=\"data row1 col1\" >$4.23</td>\n",
       "                        <td id=\"T_47a45503_b5e8_11eb_9ecb_d0577b86a497row1_col2\" class=\"data row1 col2\" >$50.76</td>\n",
       "            </tr>\n",
       "            <tr>\n",
       "                        <th id=\"T_47a45503_b5e8_11eb_9ecb_d0577b86a497level0_row2\" class=\"row_heading level0 row2\" >145</th>\n",
       "                        <th id=\"T_47a45503_b5e8_11eb_9ecb_d0577b86a497level1_row2\" class=\"row_heading level1 row2\" >Fiery Glass Crusader</th>\n",
       "                        <td id=\"T_47a45503_b5e8_11eb_9ecb_d0577b86a497row2_col0\" class=\"data row2 col0\" >9</td>\n",
       "                        <td id=\"T_47a45503_b5e8_11eb_9ecb_d0577b86a497row2_col1\" class=\"data row2 col1\" >$4.58</td>\n",
       "                        <td id=\"T_47a45503_b5e8_11eb_9ecb_d0577b86a497row2_col2\" class=\"data row2 col2\" >$41.22</td>\n",
       "            </tr>\n",
       "            <tr>\n",
       "                        <th id=\"T_47a45503_b5e8_11eb_9ecb_d0577b86a497level0_row3\" class=\"row_heading level0 row3\" >132</th>\n",
       "                        <th id=\"T_47a45503_b5e8_11eb_9ecb_d0577b86a497level1_row3\" class=\"row_heading level1 row3\" >Persuasion</th>\n",
       "                        <td id=\"T_47a45503_b5e8_11eb_9ecb_d0577b86a497row3_col0\" class=\"data row3 col0\" >9</td>\n",
       "                        <td id=\"T_47a45503_b5e8_11eb_9ecb_d0577b86a497row3_col1\" class=\"data row3 col1\" >$3.22</td>\n",
       "                        <td id=\"T_47a45503_b5e8_11eb_9ecb_d0577b86a497row3_col2\" class=\"data row3 col2\" >$28.99</td>\n",
       "            </tr>\n",
       "            <tr>\n",
       "                        <th id=\"T_47a45503_b5e8_11eb_9ecb_d0577b86a497level0_row4\" class=\"row_heading level0 row4\" >108</th>\n",
       "                        <th id=\"T_47a45503_b5e8_11eb_9ecb_d0577b86a497level1_row4\" class=\"row_heading level1 row4\" >Extraction, Quickblade Of Trembling Hands</th>\n",
       "                        <td id=\"T_47a45503_b5e8_11eb_9ecb_d0577b86a497row4_col0\" class=\"data row4 col0\" >9</td>\n",
       "                        <td id=\"T_47a45503_b5e8_11eb_9ecb_d0577b86a497row4_col1\" class=\"data row4 col1\" >$3.53</td>\n",
       "                        <td id=\"T_47a45503_b5e8_11eb_9ecb_d0577b86a497row4_col2\" class=\"data row4 col2\" >$31.77</td>\n",
       "            </tr>\n",
       "    </tbody></table>"
      ],
      "text/plain": [
       "<pandas.io.formats.style.Styler at 0x22da8a28520>"
      ]
     },
     "execution_count": 193,
     "metadata": {},
     "output_type": "execute_result"
    }
   ],
   "source": [
    "items = purchase_data[['Item ID', 'Item Name', 'Price']]\n",
    "item_data = items.groupby(['Item ID', 'Item Name'])\n",
    "purchase_count = item_data['Price'].count()\n",
    "total_purchase_value = (item_data['Price'].sum())\n",
    "\n",
    "avg_item_price = total_purchase_value/purchase_count\n",
    "\n",
    "popular_items_df = pd.DataFrame({'Purchase Count': purchase_count, 'Item Price': avg_item_price, 'Total Purchase Value': total_purchase_value})\n",
    "\n",
    "items_formatted = popular_items_df.sort_values(['Purchase Count'], ascending = False).head()\n",
    "\n",
    "items_formatted.style.format({'Item Price': '${:,.2f}',\n",
    "                              'Total Purchase Value': '${:,.2f}'})\n"
   ]
  },
  {
   "cell_type": "markdown",
   "metadata": {},
   "source": [
    "## Most Profitable Items"
   ]
  },
  {
   "cell_type": "markdown",
   "metadata": {},
   "source": [
    "* Sort the above table by total purchase value in descending order\n",
    "\n",
    "\n",
    "* Optional: give the displayed data cleaner formatting\n",
    "\n",
    "\n",
    "* Display a preview of the data frame\n",
    "\n"
   ]
  },
  {
   "cell_type": "code",
   "execution_count": 195,
   "metadata": {
    "scrolled": true
   },
   "outputs": [
    {
     "data": {
      "text/html": [
       "<style  type=\"text/css\" >\n",
       "</style><table id=\"T_87942c39_b5e8_11eb_8039_d0577b86a497\" ><thead>    <tr>        <th class=\"blank\" ></th>        <th class=\"blank level0\" ></th>        <th class=\"col_heading level0 col0\" >Purchase Count</th>        <th class=\"col_heading level0 col1\" >Item Price</th>        <th class=\"col_heading level0 col2\" >Total Purchase Value</th>    </tr>    <tr>        <th class=\"index_name level0\" >Item ID</th>        <th class=\"index_name level1\" >Item Name</th>        <th class=\"blank\" ></th>        <th class=\"blank\" ></th>        <th class=\"blank\" ></th>    </tr></thead><tbody>\n",
       "                <tr>\n",
       "                        <th id=\"T_87942c39_b5e8_11eb_8039_d0577b86a497level0_row0\" class=\"row_heading level0 row0\" >92</th>\n",
       "                        <th id=\"T_87942c39_b5e8_11eb_8039_d0577b86a497level1_row0\" class=\"row_heading level1 row0\" >Final Critic</th>\n",
       "                        <td id=\"T_87942c39_b5e8_11eb_8039_d0577b86a497row0_col0\" class=\"data row0 col0\" >13</td>\n",
       "                        <td id=\"T_87942c39_b5e8_11eb_8039_d0577b86a497row0_col1\" class=\"data row0 col1\" >$4.61</td>\n",
       "                        <td id=\"T_87942c39_b5e8_11eb_8039_d0577b86a497row0_col2\" class=\"data row0 col2\" >$59.99</td>\n",
       "            </tr>\n",
       "            <tr>\n",
       "                        <th id=\"T_87942c39_b5e8_11eb_8039_d0577b86a497level0_row1\" class=\"row_heading level0 row1\" >178</th>\n",
       "                        <th id=\"T_87942c39_b5e8_11eb_8039_d0577b86a497level1_row1\" class=\"row_heading level1 row1\" >Oathbreaker, Last Hope of the Breaking Storm</th>\n",
       "                        <td id=\"T_87942c39_b5e8_11eb_8039_d0577b86a497row1_col0\" class=\"data row1 col0\" >12</td>\n",
       "                        <td id=\"T_87942c39_b5e8_11eb_8039_d0577b86a497row1_col1\" class=\"data row1 col1\" >$4.23</td>\n",
       "                        <td id=\"T_87942c39_b5e8_11eb_8039_d0577b86a497row1_col2\" class=\"data row1 col2\" >$50.76</td>\n",
       "            </tr>\n",
       "            <tr>\n",
       "                        <th id=\"T_87942c39_b5e8_11eb_8039_d0577b86a497level0_row2\" class=\"row_heading level0 row2\" >82</th>\n",
       "                        <th id=\"T_87942c39_b5e8_11eb_8039_d0577b86a497level1_row2\" class=\"row_heading level1 row2\" >Nirvana</th>\n",
       "                        <td id=\"T_87942c39_b5e8_11eb_8039_d0577b86a497row2_col0\" class=\"data row2 col0\" >9</td>\n",
       "                        <td id=\"T_87942c39_b5e8_11eb_8039_d0577b86a497row2_col1\" class=\"data row2 col1\" >$4.90</td>\n",
       "                        <td id=\"T_87942c39_b5e8_11eb_8039_d0577b86a497row2_col2\" class=\"data row2 col2\" >$44.10</td>\n",
       "            </tr>\n",
       "            <tr>\n",
       "                        <th id=\"T_87942c39_b5e8_11eb_8039_d0577b86a497level0_row3\" class=\"row_heading level0 row3\" >145</th>\n",
       "                        <th id=\"T_87942c39_b5e8_11eb_8039_d0577b86a497level1_row3\" class=\"row_heading level1 row3\" >Fiery Glass Crusader</th>\n",
       "                        <td id=\"T_87942c39_b5e8_11eb_8039_d0577b86a497row3_col0\" class=\"data row3 col0\" >9</td>\n",
       "                        <td id=\"T_87942c39_b5e8_11eb_8039_d0577b86a497row3_col1\" class=\"data row3 col1\" >$4.58</td>\n",
       "                        <td id=\"T_87942c39_b5e8_11eb_8039_d0577b86a497row3_col2\" class=\"data row3 col2\" >$41.22</td>\n",
       "            </tr>\n",
       "            <tr>\n",
       "                        <th id=\"T_87942c39_b5e8_11eb_8039_d0577b86a497level0_row4\" class=\"row_heading level0 row4\" >103</th>\n",
       "                        <th id=\"T_87942c39_b5e8_11eb_8039_d0577b86a497level1_row4\" class=\"row_heading level1 row4\" >Singed Scalpel</th>\n",
       "                        <td id=\"T_87942c39_b5e8_11eb_8039_d0577b86a497row4_col0\" class=\"data row4 col0\" >8</td>\n",
       "                        <td id=\"T_87942c39_b5e8_11eb_8039_d0577b86a497row4_col1\" class=\"data row4 col1\" >$4.35</td>\n",
       "                        <td id=\"T_87942c39_b5e8_11eb_8039_d0577b86a497row4_col2\" class=\"data row4 col2\" >$34.80</td>\n",
       "            </tr>\n",
       "    </tbody></table>"
      ],
      "text/plain": [
       "<pandas.io.formats.style.Styler at 0x22da8b46430>"
      ]
     },
     "execution_count": 195,
     "metadata": {},
     "output_type": "execute_result"
    }
   ],
   "source": [
    "items_formatted = popular_items_df.sort_values(['Total Purchase Value'], ascending = False).head()\n",
    "\n",
    "items_formatted.style.format({'Item Price': '${:,.2f}',\n",
    "                              'Total Purchase Value': '${:,.2f}'})"
   ]
  },
  {
   "cell_type": "code",
   "execution_count": null,
   "metadata": {},
   "outputs": [],
   "source": []
  }
 ],
 "metadata": {
  "anaconda-cloud": {},
  "kernel_info": {
   "name": "python3"
  },
  "kernelspec": {
   "display_name": "Python [conda env:root] *",
   "language": "python",
   "name": "conda-root-py"
  },
  "language_info": {
   "codemirror_mode": {
    "name": "ipython",
    "version": 3
   },
   "file_extension": ".py",
   "mimetype": "text/x-python",
   "name": "python",
   "nbconvert_exporter": "python",
   "pygments_lexer": "ipython3",
   "version": "3.8.5"
  },
  "latex_envs": {
   "LaTeX_envs_menu_present": true,
   "autoclose": false,
   "autocomplete": true,
   "bibliofile": "biblio.bib",
   "cite_by": "apalike",
   "current_citInitial": 1,
   "eqLabelWithNumbers": true,
   "eqNumInitial": 1,
   "hotkeys": {
    "equation": "Ctrl-E",
    "itemize": "Ctrl-I"
   },
   "labels_anchors": false,
   "latex_user_defs": false,
   "report_style_numbering": false,
   "user_envs_cfg": false
  },
  "nteract": {
   "version": "0.2.0"
  }
 },
 "nbformat": 4,
 "nbformat_minor": 4
}
